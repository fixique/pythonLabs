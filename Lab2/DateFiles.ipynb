{
 "cells": [
  {
   "cell_type": "code",
   "execution_count": 1,
   "metadata": {
    "collapsed": true
   },
   "outputs": [],
   "source": [
    "import os\n",
    "import time\n",
    "from os import listdir\n",
    "from os.path import isfile\n",
    "from os.path import join as jp"
   ]
  },
  {
   "cell_type": "code",
   "execution_count": 119,
   "metadata": {},
   "outputs": [],
   "source": [
    "def printParentStrings(text, ignorLine):\n",
    "        flagString = 0\n",
    "        for line in text:\n",
    "            flagString += 1\n",
    "            if ignorLine - 2 == flagString or ignorLine - 1 == flagString or ignorLine + 1 == flagString or ignorLine + 2 == flagString:\n",
    "                print(line[0] + '\\n')"
   ]
  },
  {
   "cell_type": "code",
   "execution_count": 120,
   "metadata": {
    "collapsed": true
   },
   "outputs": [],
   "source": [
    "def readFileWithPath(path):\n",
    "    with open(path) as f:\n",
    "        text = []\n",
    "        for line in f:\n",
    "            line = line.split()  \n",
    "            if line:    \n",
    "                line = [str(i) for i in line]\n",
    "                text.append(line)\n",
    "        return text"
   ]
  },
  {
   "cell_type": "code",
   "execution_count": 122,
   "metadata": {},
   "outputs": [
    {
     "name": "stdout",
     "output_type": "stream",
     "text": [
      "1505768121.0\n",
      "Имя файла: date3.txt\n",
      "Дата создания: Mon Sep 18 23:55:21 2017\n",
      "Номер строки: 4\n",
      "Совподающая строка: iiii\n",
      "5555\n",
      "\n",
      "7777\n",
      "\n",
      "oooo\n",
      "\n",
      "pppp\n",
      "\n"
     ]
    }
   ],
   "source": [
    "path = 'Files'\n",
    "for i in listdir(path):\n",
    "    if isfile(jp(path, i)):\n",
    "        fullPath = path + '/' + i\n",
    "        if os.stat(fullPath).st_birthtime > 1505767856.0:\n",
    "            print(os.stat(fullPath).st_birthtime)\n",
    "            file = open(fullPath)\n",
    "            text = readFileWithPath(fullPath)\n",
    "            lineNumber = 0\n",
    "            for k in text:\n",
    "                lineNumber += 1\n",
    "                if k == ['iiii']:\n",
    "                    print('Имя файла: ' + str(i))\n",
    "                    print('Дата создания: ' + time.ctime(os.stat(fullPath).st_birthtime))\n",
    "                    print('Номер строки: ' + str(lineNumber))\n",
    "                    print('Совподающая строка: ' + k[0])\n",
    "                    printParentStrings(text,lineNumber)"
   ]
  },
  {
   "cell_type": "code",
   "execution_count": null,
   "metadata": {
    "collapsed": true
   },
   "outputs": [],
   "source": []
  },
  {
   "cell_type": "code",
   "execution_count": null,
   "metadata": {
    "collapsed": true
   },
   "outputs": [],
   "source": []
  }
 ],
 "metadata": {
  "kernelspec": {
   "display_name": "Python 3",
   "language": "python",
   "name": "python3"
  },
  "language_info": {
   "codemirror_mode": {
    "name": "ipython",
    "version": 3
   },
   "file_extension": ".py",
   "mimetype": "text/x-python",
   "name": "python",
   "nbconvert_exporter": "python",
   "pygments_lexer": "ipython3",
   "version": "3.5.2"
  }
 },
 "nbformat": 4,
 "nbformat_minor": 2
}
