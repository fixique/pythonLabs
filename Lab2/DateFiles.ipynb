{
 "cells": [
  {
   "cell_type": "code",
   "execution_count": 68,
   "metadata": {
    "collapsed": true
   },
   "outputs": [],
   "source": [
    "import os\n",
    "import time\n",
    "from os import listdir\n",
    "from os.path import isfile\n",
    "from os.path import join as jp\n",
    "import collections\n",
    "import itertools\n",
    "import sys\n",
    "from itertools import islice"
   ]
  },
  {
   "cell_type": "code",
   "execution_count": 69,
   "metadata": {
    "collapsed": true
   },
   "outputs": [],
   "source": [
    "def readFileWithPath(path):\n",
    "    with open(path) as f:\n",
    "        text = []\n",
    "        for line in f:\n",
    "            line = line.split()  \n",
    "            if line:    \n",
    "                line = [str(i) for i in line]\n",
    "                text.append(line)\n",
    "        return text"
   ]
  },
  {
   "cell_type": "code",
   "execution_count": 97,
   "metadata": {},
   "outputs": [
    {
     "name": "stdout",
     "output_type": "stream",
     "text": [
      "1505768121.0\n",
      "Имя файла: date3.txt\n",
      "Дата создания: Mon Sep 18 23:55:21 2017\n",
      "Номер строки: 1\n",
      "Совподающая строка: 1111\n",
      "Строки до:\n",
      "Строки после: \n",
      "1111\n",
      "7777\n",
      "Имя файла: date3.txt\n",
      "Дата создания: Mon Sep 18 23:55:21 2017\n",
      "Номер строки: 2\n",
      "Совподающая строка: 1111\n",
      "Строки до:\n",
      "1111\n",
      "Строки после: \n",
      "7777\n",
      "iiii\n",
      "Имя файла: date3.txt\n",
      "Дата создания: Mon Sep 18 23:55:21 2017\n",
      "Номер строки: 5\n",
      "Совподающая строка: 1111\n",
      "Строки до:\n",
      "7777\n",
      "iiii\n",
      "Строки после: \n",
      "1111\n",
      "pppp\n",
      "Имя файла: date3.txt\n",
      "Дата создания: Mon Sep 18 23:55:21 2017\n",
      "Номер строки: 6\n",
      "Совподающая строка: 1111\n",
      "Строки до:\n",
      "iiii\n",
      "1111\n",
      "Строки после: \n",
      "pppp\n",
      "aaaa\n",
      "Имя файла: date3.txt\n",
      "Дата создания: Mon Sep 18 23:55:21 2017\n",
      "Номер строки: 10\n",
      "Совподающая строка: 1111\n",
      "Строки до:\n",
      "aaaa\n",
      "3333\n",
      "Строки после: \n"
     ]
    }
   ],
   "source": [
    "path = 'Files'\n",
    "\n",
    "for i in listdir(path):\n",
    "    if isfile(jp(path, i)):\n",
    "        fullPath = path + '/' + i\n",
    "        if os.stat(fullPath).st_birthtime > 1505767856.0:\n",
    "            print(os.stat(fullPath).st_birthtime)\n",
    "            file = open(fullPath)\n",
    "            text = readFileWithPath(fullPath)\n",
    "            lineNumber = 0\n",
    "            linesBefore = list()\n",
    "            for k in range(len(text)):\n",
    "                lineNumber += 1\n",
    "                if len(linesBefore) > 2:\n",
    "                    linesBefore.pop(0)\n",
    "                if \"11\" in text[k][0]:\n",
    "                    print('Имя файла: ' + str(i))\n",
    "                    print('Дата создания: ' + time.ctime(os.stat(fullPath).st_birthtime))\n",
    "                    print('Номер строки: ' + str(lineNumber))\n",
    "                    print('Совподающая строка: ' + text[k][0])\n",
    "                    print('Строки до:')\n",
    "                    for t in range(len(linesBefore)):\n",
    "                        print(linesBefore[t])\n",
    "\n",
    "                    print('Строки после: ')\n",
    "                    if (k+3 <= len(text)):\n",
    "                        print(text[k+1][0])\n",
    "                        print(text[k+2][0])\n",
    "                linesBefore.append(text[k][0])"
   ]
  },
  {
   "cell_type": "code",
   "execution_count": null,
   "metadata": {
    "collapsed": true
   },
   "outputs": [],
   "source": []
  },
  {
   "cell_type": "code",
   "execution_count": null,
   "metadata": {
    "collapsed": true
   },
   "outputs": [],
   "source": []
  }
 ],
 "metadata": {
  "kernelspec": {
   "display_name": "Python 3",
   "language": "python",
   "name": "python3"
  },
  "language_info": {
   "codemirror_mode": {
    "name": "ipython",
    "version": 3
   },
   "file_extension": ".py",
   "mimetype": "text/x-python",
   "name": "python",
   "nbconvert_exporter": "python",
   "pygments_lexer": "ipython3",
   "version": "3.5.2"
  }
 },
 "nbformat": 4,
 "nbformat_minor": 2
}
