{
 "cells": [
  {
   "cell_type": "code",
   "execution_count": 1,
   "metadata": {
    "collapsed": true
   },
   "outputs": [],
   "source": [
    "import os\n",
    "import time\n",
    "from os import listdir\n",
    "from os.path import isfile\n",
    "from os.path import join as jp"
   ]
  },
  {
   "cell_type": "code",
   "execution_count": 24,
   "metadata": {},
   "outputs": [],
   "source": [
    "def readFileWithPath(path):\n",
    "    with open(path) as f:\n",
    "        text = []\n",
    "        for line in f:\n",
    "            line = line.split()  \n",
    "            if line:    \n",
    "                line = [str(i) for i in line]\n",
    "                text.append(line)\n",
    "        return text"
   ]
  },
  {
   "cell_type": "code",
   "execution_count": 27,
   "metadata": {},
   "outputs": [
    {
     "name": "stdout",
     "output_type": "stream",
     "text": [
      "1505768912.0\n"
     ]
    }
   ],
   "source": [
    "path = 'Files'\n",
    "for i in listdir(path):\n",
    "    if isfile(jp(path, i)):\n",
    "        print(os.stat(path + '//' + i).st_atime)\n",
    "        if os.stat(path + '//' + i).st_atime > 1505768133:\n",
    "            print(os.stat(path + '//' + i).st_atime)\n",
    "            text = readFileWithPath(path + '/' + i)\n",
    "            text"
   ]
  },
  {
   "cell_type": "code",
   "execution_count": null,
   "metadata": {},
   "outputs": [],
   "source": []
  },
  {
   "cell_type": "code",
   "execution_count": null,
   "metadata": {
    "collapsed": true
   },
   "outputs": [],
   "source": []
  }
 ],
 "metadata": {
  "kernelspec": {
   "display_name": "Python 3",
   "language": "python",
   "name": "python3"
  },
  "language_info": {
   "codemirror_mode": {
    "name": "ipython",
    "version": 3
   },
   "file_extension": ".py",
   "mimetype": "text/x-python",
   "name": "python",
   "nbconvert_exporter": "python",
   "pygments_lexer": "ipython3",
   "version": "3.5.2"
  }
 },
 "nbformat": 4,
 "nbformat_minor": 2
}
