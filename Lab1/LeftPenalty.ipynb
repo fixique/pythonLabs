{
 "cells": [
  {
   "cell_type": "code",
   "execution_count": 1,
   "metadata": {
    "collapsed": true
   },
   "outputs": [],
   "source": [
    "import math as mt \n",
    "import numpy as np"
   ]
  },
  {
   "cell_type": "code",
   "execution_count": 2,
   "metadata": {
    "collapsed": true
   },
   "outputs": [],
   "source": [
    "f = open('penalty.txt', 'r').read().splitlines()"
   ]
  },
  {
   "cell_type": "code",
   "execution_count": 3,
   "metadata": {},
   "outputs": [
    {
     "data": {
      "text/plain": [
       "[[1000],\n",
       " [0, 0],\n",
       " [2, 0],\n",
       " [2, 1],\n",
       " [3, 1],\n",
       " [3, -2],\n",
       " [5, -2],\n",
       " [5, -3],\n",
       " [6, -3],\n",
       " [6, -2],\n",
       " [7, -2],\n",
       " [7, -1],\n",
       " [8, -1],\n",
       " [8, 1],\n",
       " [9, 1],\n",
       " [9, 0],\n",
       " [10, 0],\n",
       " [10, 3],\n",
       " [13, 3],\n",
       " [13, 2],\n",
       " [14, 2],\n",
       " [14, 1],\n",
       " [15, 1]]"
      ]
     },
     "execution_count": 3,
     "metadata": {},
     "output_type": "execute_result"
    }
   ],
   "source": [
    "with open('penalty.txt') as f:\n",
    "    textNumbers = []\n",
    "    for line in f:\n",
    "        line = line.split()  \n",
    "        if line:    \n",
    "            line = [int(i) for i in line]\n",
    "            textNumbers.append(line)\n",
    "            \n",
    "textNumbers"
   ]
  },
  {
   "cell_type": "code",
   "execution_count": 4,
   "metadata": {
    "scrolled": true
   },
   "outputs": [
    {
     "data": {
      "text/plain": [
       "[1000]"
      ]
     },
     "execution_count": 4,
     "metadata": {},
     "output_type": "execute_result"
    }
   ],
   "source": [
    "m = textNumbers[0][0]\n",
    "textNumbers.pop(0)"
   ]
  },
  {
   "cell_type": "code",
   "execution_count": 5,
   "metadata": {
    "scrolled": true
   },
   "outputs": [
    {
     "name": "stdout",
     "output_type": "stream",
     "text": [
      "Штраф за левый поворот: 1000\n"
     ]
    }
   ],
   "source": [
    "print(\"Штраф за левый поворот: \" + str(m))"
   ]
  },
  {
   "cell_type": "code",
   "execution_count": 6,
   "metadata": {
    "collapsed": true
   },
   "outputs": [],
   "source": [
    "penaltySum = 0\n",
    "b = [0,0]\n",
    "for a in textNumbers:\n",
    "    result = np.cross(a,b)\n",
    "    b = a\n",
    "    if result > 0:\n",
    "        penaltySum += int(m)\n",
    "    "
   ]
  },
  {
   "cell_type": "code",
   "execution_count": 7,
   "metadata": {},
   "outputs": [
    {
     "data": {
      "text/plain": [
       "10000"
      ]
     },
     "execution_count": 7,
     "metadata": {},
     "output_type": "execute_result"
    }
   ],
   "source": [
    "penaltySum"
   ]
  },
  {
   "cell_type": "code",
   "execution_count": null,
   "metadata": {
    "collapsed": true
   },
   "outputs": [],
   "source": []
  }
 ],
 "metadata": {
  "kernelspec": {
   "display_name": "Python 3",
   "language": "python",
   "name": "python3"
  },
  "language_info": {
   "codemirror_mode": {
    "name": "ipython",
    "version": 3
   },
   "file_extension": ".py",
   "mimetype": "text/x-python",
   "name": "python",
   "nbconvert_exporter": "python",
   "pygments_lexer": "ipython3",
   "version": "3.5.2"
  }
 },
 "nbformat": 4,
 "nbformat_minor": 2
}
