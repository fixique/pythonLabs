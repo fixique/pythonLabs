{
 "cells": [
  {
   "cell_type": "code",
   "execution_count": 1,
   "metadata": {
    "collapsed": true
   },
   "outputs": [],
   "source": [
    "import math as mt "
   ]
  },
  {
   "cell_type": "code",
   "execution_count": 2,
   "metadata": {
    "collapsed": true
   },
   "outputs": [],
   "source": [
    "def vectorLength(a):\n",
    "    return mt.sqrt(float(a.split(' ')[0]) ** 2 + float(a.split(' ')[1]) ** 2)"
   ]
  },
  {
   "cell_type": "code",
   "execution_count": 39,
   "metadata": {},
   "outputs": [],
   "source": [
    "f = open('penalty.txt', 'r').read().splitlines()"
   ]
  },
  {
   "cell_type": "code",
   "execution_count": 43,
   "metadata": {},
   "outputs": [],
   "source": [
    "with open('penalty.txt') as f:\n",
    "    polyShape = []\n",
    "    for line in f:\n",
    "        line = line.split()  \n",
    "        if line:    \n",
    "            line = [int(i) for i in line]\n",
    "            polyShape.append(line)"
   ]
  },
  {
   "cell_type": "code",
   "execution_count": 44,
   "metadata": {},
   "outputs": [
    {
     "data": {
      "text/plain": [
       "[[1500],\n",
       " [0, 0],\n",
       " [0, 1],\n",
       " [1, 1],\n",
       " [1, -2],\n",
       " [2, 1],\n",
       " [2, 2],\n",
       " [3, -1],\n",
       " [3, 2],\n",
       " [3, -3],\n",
       " [4, 1]]"
      ]
     },
     "execution_count": 44,
     "metadata": {},
     "output_type": "execute_result"
    }
   ],
   "source": [
    "polyShape"
   ]
  },
  {
   "cell_type": "code",
   "execution_count": 34,
   "metadata": {
    "scrolled": true
   },
   "outputs": [
    {
     "name": "stdout",
     "output_type": "stream",
     "text": [
      "Штраф за левый поворот: 1500\n"
     ]
    }
   ],
   "source": [
    "print(\"Штраф за левый поворот: \" + str(m))"
   ]
  },
  {
   "cell_type": "code",
   "execution_count": 6,
   "metadata": {},
   "outputs": [
    {
     "data": {
      "text/plain": [
       "'1500\\n1500\\n'"
      ]
     },
     "execution_count": 6,
     "metadata": {},
     "output_type": "execute_result"
    }
   ],
   "source": [
    "penaltySum = 0\n",
    "for a in f:\n",
    "    if b != '':\n",
    "        c = vectorLength(b)\n",
    "        d = vectorLength(a)\n",
    "        c = c * d * mt.sin(float())"
   ]
  },
  {
   "cell_type": "code",
   "execution_count": null,
   "metadata": {
    "collapsed": true
   },
   "outputs": [],
   "source": [
    "f"
   ]
  }
 ],
 "metadata": {
  "kernelspec": {
   "display_name": "Python 3",
   "language": "python",
   "name": "python3"
  },
  "language_info": {
   "codemirror_mode": {
    "name": "ipython",
    "version": 3
   },
   "file_extension": ".py",
   "mimetype": "text/x-python",
   "name": "python",
   "nbconvert_exporter": "python",
   "pygments_lexer": "ipython3",
   "version": "3.5.2"
  }
 },
 "nbformat": 4,
 "nbformat_minor": 2
}
